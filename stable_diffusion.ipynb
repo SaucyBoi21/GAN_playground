{
 "cells": [
  {
   "cell_type": "code",
   "execution_count": 1,
   "metadata": {},
   "outputs": [
    {
     "name": "stderr",
     "output_type": "stream",
     "text": [
      "2023-07-07 00:01:42.858336: I tensorflow/core/platform/cpu_feature_guard.cc:182] This TensorFlow binary is optimized to use available CPU instructions in performance-critical operations.\n",
      "To enable the following instructions: AVX2 FMA, in other operations, rebuild TensorFlow with the appropriate compiler flags.\n"
     ]
    },
    {
     "ename": "ModuleNotFoundError",
     "evalue": "No module named 'keras.engine'",
     "output_type": "error",
     "traceback": [
      "\u001b[0;31m---------------------------------------------------------------------------\u001b[0m",
      "\u001b[0;31mModuleNotFoundError\u001b[0m                       Traceback (most recent call last)",
      "Cell \u001b[0;32mIn[1], line 3\u001b[0m\n\u001b[1;32m      1\u001b[0m \u001b[39mimport\u001b[39;00m \u001b[39mtime\u001b[39;00m\n\u001b[1;32m      2\u001b[0m \u001b[39mimport\u001b[39;00m \u001b[39mtensorflow\u001b[39;00m \u001b[39mas\u001b[39;00m \u001b[39mtf\u001b[39;00m\n\u001b[0;32m----> 3\u001b[0m \u001b[39mimport\u001b[39;00m \u001b[39mkeras_cv\u001b[39;00m\n\u001b[1;32m      4\u001b[0m \u001b[39mfrom\u001b[39;00m \u001b[39mmatplotlib\u001b[39;00m \u001b[39mimport\u001b[39;00m pyplot \u001b[39mas\u001b[39;00m plt\n",
      "File \u001b[0;32m~/Documents/GitHub/GAN_playground/virtualenv/lib/python3.11/site-packages/keras_cv/__init__.py:22\u001b[0m\n\u001b[1;32m     19\u001b[0m \u001b[39m# isort:on\u001b[39;00m\n\u001b[1;32m     21\u001b[0m \u001b[39mfrom\u001b[39;00m \u001b[39mkeras_cv\u001b[39;00m \u001b[39mimport\u001b[39;00m bounding_box\n\u001b[0;32m---> 22\u001b[0m \u001b[39mfrom\u001b[39;00m \u001b[39mkeras_cv\u001b[39;00m \u001b[39mimport\u001b[39;00m callbacks\n\u001b[1;32m     23\u001b[0m \u001b[39mfrom\u001b[39;00m \u001b[39mkeras_cv\u001b[39;00m \u001b[39mimport\u001b[39;00m datasets\n\u001b[1;32m     24\u001b[0m \u001b[39mfrom\u001b[39;00m \u001b[39mkeras_cv\u001b[39;00m \u001b[39mimport\u001b[39;00m layers\n",
      "File \u001b[0;32m~/Documents/GitHub/GAN_playground/virtualenv/lib/python3.11/site-packages/keras_cv/callbacks/__init__.py:14\u001b[0m\n\u001b[1;32m      1\u001b[0m \u001b[39m# Copyright 2022 The KerasCV Authors\u001b[39;00m\n\u001b[1;32m      2\u001b[0m \u001b[39m#\u001b[39;00m\n\u001b[1;32m      3\u001b[0m \u001b[39m# Licensed under the Apache License, Version 2.0 (the \"License\");\u001b[39;00m\n\u001b[0;32m   (...)\u001b[0m\n\u001b[1;32m     12\u001b[0m \u001b[39m# See the License for the specific language governing permissions and\u001b[39;00m\n\u001b[1;32m     13\u001b[0m \u001b[39m# limitations under the License.\u001b[39;00m\n\u001b[0;32m---> 14\u001b[0m \u001b[39mfrom\u001b[39;00m \u001b[39mkeras_cv\u001b[39;00m\u001b[39m.\u001b[39;00m\u001b[39mcallbacks\u001b[39;00m\u001b[39m.\u001b[39;00m\u001b[39mpycoco_callback\u001b[39;00m \u001b[39mimport\u001b[39;00m PyCOCOCallback\n\u001b[1;32m     15\u001b[0m \u001b[39mfrom\u001b[39;00m \u001b[39mkeras_cv\u001b[39;00m\u001b[39m.\u001b[39;00m\u001b[39mcallbacks\u001b[39;00m\u001b[39m.\u001b[39;00m\u001b[39mwaymo_evaluation_callback\u001b[39;00m \u001b[39mimport\u001b[39;00m WaymoEvaluationCallback\n",
      "File \u001b[0;32m~/Documents/GitHub/GAN_playground/virtualenv/lib/python3.11/site-packages/keras_cv/callbacks/pycoco_callback.py:19\u001b[0m\n\u001b[1;32m     17\u001b[0m \u001b[39mfrom\u001b[39;00m \u001b[39mkeras_cv\u001b[39;00m \u001b[39mimport\u001b[39;00m bounding_box\n\u001b[1;32m     18\u001b[0m \u001b[39mfrom\u001b[39;00m \u001b[39mkeras_cv\u001b[39;00m\u001b[39m.\u001b[39;00m\u001b[39mmetrics\u001b[39;00m\u001b[39m.\u001b[39;00m\u001b[39mcoco\u001b[39;00m \u001b[39mimport\u001b[39;00m compute_pycoco_metrics\n\u001b[0;32m---> 19\u001b[0m \u001b[39mfrom\u001b[39;00m \u001b[39mkeras_cv\u001b[39;00m\u001b[39m.\u001b[39;00m\u001b[39mmodels\u001b[39;00m\u001b[39m.\u001b[39;00m\u001b[39mobject_detection\u001b[39;00m\u001b[39m.\u001b[39;00m\u001b[39m__internal__\u001b[39;00m \u001b[39mimport\u001b[39;00m unpack_input\n\u001b[1;32m     20\u001b[0m \u001b[39mfrom\u001b[39;00m \u001b[39mkeras_cv\u001b[39;00m\u001b[39m.\u001b[39;00m\u001b[39mutils\u001b[39;00m\u001b[39m.\u001b[39;00m\u001b[39mconditional_imports\u001b[39;00m \u001b[39mimport\u001b[39;00m assert_pycocotools_installed\n\u001b[1;32m     23\u001b[0m \u001b[39mclass\u001b[39;00m \u001b[39mPyCOCOCallback\u001b[39;00m(Callback):\n",
      "File \u001b[0;32m~/Documents/GitHub/GAN_playground/virtualenv/lib/python3.11/site-packages/keras_cv/models/__init__.py:103\u001b[0m\n\u001b[1;32m     99\u001b[0m \u001b[39mfrom\u001b[39;00m \u001b[39mkeras_cv\u001b[39;00m\u001b[39m.\u001b[39;00m\u001b[39mmodels\u001b[39;00m\u001b[39m.\u001b[39;00m\u001b[39mbackbones\u001b[39;00m\u001b[39m.\u001b[39;00m\u001b[39mresnet_v2\u001b[39;00m\u001b[39m.\u001b[39;00m\u001b[39mresnet_v2_backbone\u001b[39;00m \u001b[39mimport\u001b[39;00m (\n\u001b[1;32m    100\u001b[0m     ResNetV2Backbone,\n\u001b[1;32m    101\u001b[0m )\n\u001b[1;32m    102\u001b[0m \u001b[39mfrom\u001b[39;00m \u001b[39mkeras_cv\u001b[39;00m\u001b[39m.\u001b[39;00m\u001b[39mmodels\u001b[39;00m\u001b[39m.\u001b[39;00m\u001b[39mclassification\u001b[39;00m\u001b[39m.\u001b[39;00m\u001b[39mimage_classifier\u001b[39;00m \u001b[39mimport\u001b[39;00m ImageClassifier\n\u001b[0;32m--> 103\u001b[0m \u001b[39mfrom\u001b[39;00m \u001b[39mkeras_cv\u001b[39;00m\u001b[39m.\u001b[39;00m\u001b[39mmodels\u001b[39;00m\u001b[39m.\u001b[39;00m\u001b[39mobject_detection\u001b[39;00m\u001b[39m.\u001b[39;00m\u001b[39mretinanet\u001b[39;00m\u001b[39m.\u001b[39;00m\u001b[39mretinanet\u001b[39;00m \u001b[39mimport\u001b[39;00m RetinaNet\n\u001b[1;32m    104\u001b[0m \u001b[39mfrom\u001b[39;00m \u001b[39mkeras_cv\u001b[39;00m\u001b[39m.\u001b[39;00m\u001b[39mmodels\u001b[39;00m\u001b[39m.\u001b[39;00m\u001b[39mobject_detection\u001b[39;00m\u001b[39m.\u001b[39;00m\u001b[39myolo_v8\u001b[39;00m\u001b[39m.\u001b[39;00m\u001b[39myolo_v8_backbone\u001b[39;00m \u001b[39mimport\u001b[39;00m (\n\u001b[1;32m    105\u001b[0m     YOLOV8Backbone,\n\u001b[1;32m    106\u001b[0m )\n\u001b[1;32m    107\u001b[0m \u001b[39mfrom\u001b[39;00m \u001b[39mkeras_cv\u001b[39;00m\u001b[39m.\u001b[39;00m\u001b[39mmodels\u001b[39;00m\u001b[39m.\u001b[39;00m\u001b[39mobject_detection\u001b[39;00m\u001b[39m.\u001b[39;00m\u001b[39myolo_v8\u001b[39;00m\u001b[39m.\u001b[39;00m\u001b[39myolo_v8_detector\u001b[39;00m \u001b[39mimport\u001b[39;00m (\n\u001b[1;32m    108\u001b[0m     YOLOV8Detector,\n\u001b[1;32m    109\u001b[0m )\n",
      "File \u001b[0;32m~/Documents/GitHub/GAN_playground/virtualenv/lib/python3.11/site-packages/keras_cv/models/object_detection/retinanet/retinanet.py:29\u001b[0m\n\u001b[1;32m     25\u001b[0m \u001b[39mfrom\u001b[39;00m \u001b[39mkeras_cv\u001b[39;00m\u001b[39m.\u001b[39;00m\u001b[39mmodels\u001b[39;00m\u001b[39m.\u001b[39;00m\u001b[39mbackbones\u001b[39;00m\u001b[39m.\u001b[39;00m\u001b[39mbackbone_presets\u001b[39;00m \u001b[39mimport\u001b[39;00m backbone_presets\n\u001b[1;32m     26\u001b[0m \u001b[39mfrom\u001b[39;00m \u001b[39mkeras_cv\u001b[39;00m\u001b[39m.\u001b[39;00m\u001b[39mmodels\u001b[39;00m\u001b[39m.\u001b[39;00m\u001b[39mbackbones\u001b[39;00m\u001b[39m.\u001b[39;00m\u001b[39mbackbone_presets\u001b[39;00m \u001b[39mimport\u001b[39;00m (\n\u001b[1;32m     27\u001b[0m     backbone_presets_with_weights,\n\u001b[1;32m     28\u001b[0m )\n\u001b[0;32m---> 29\u001b[0m \u001b[39mfrom\u001b[39;00m \u001b[39mkeras_cv\u001b[39;00m\u001b[39m.\u001b[39;00m\u001b[39mmodels\u001b[39;00m\u001b[39m.\u001b[39;00m\u001b[39mobject_detection\u001b[39;00m \u001b[39mimport\u001b[39;00m predict_utils\n\u001b[1;32m     30\u001b[0m \u001b[39mfrom\u001b[39;00m \u001b[39mkeras_cv\u001b[39;00m\u001b[39m.\u001b[39;00m\u001b[39mmodels\u001b[39;00m\u001b[39m.\u001b[39;00m\u001b[39mobject_detection\u001b[39;00m\u001b[39m.\u001b[39;00m\u001b[39m__internal__\u001b[39;00m \u001b[39mimport\u001b[39;00m unpack_input\n\u001b[1;32m     31\u001b[0m \u001b[39mfrom\u001b[39;00m \u001b[39mkeras_cv\u001b[39;00m\u001b[39m.\u001b[39;00m\u001b[39mmodels\u001b[39;00m\u001b[39m.\u001b[39;00m\u001b[39mobject_detection\u001b[39;00m\u001b[39m.\u001b[39;00m\u001b[39mretinanet\u001b[39;00m \u001b[39mimport\u001b[39;00m FeaturePyramid\n",
      "File \u001b[0;32m~/Documents/GitHub/GAN_playground/virtualenv/lib/python3.11/site-packages/keras_cv/models/object_detection/predict_utils.py:16\u001b[0m\n\u001b[1;32m      1\u001b[0m \u001b[39m# Copyright 2022 The KerasCV Authors\u001b[39;00m\n\u001b[1;32m      2\u001b[0m \u001b[39m#\u001b[39;00m\n\u001b[1;32m      3\u001b[0m \u001b[39m# Licensed under the Apache License, Version 2.0 (the \"License\");\u001b[39;00m\n\u001b[0;32m   (...)\u001b[0m\n\u001b[1;32m     12\u001b[0m \u001b[39m# See the License for the specific language governing permissions and\u001b[39;00m\n\u001b[1;32m     13\u001b[0m \u001b[39m# limitations under the License.\u001b[39;00m\n\u001b[1;32m     15\u001b[0m \u001b[39mimport\u001b[39;00m \u001b[39mtensorflow\u001b[39;00m \u001b[39mas\u001b[39;00m \u001b[39mtf\u001b[39;00m\n\u001b[0;32m---> 16\u001b[0m \u001b[39mfrom\u001b[39;00m \u001b[39mkeras\u001b[39;00m\u001b[39m.\u001b[39;00m\u001b[39mengine\u001b[39;00m\u001b[39m.\u001b[39;00m\u001b[39mtraining\u001b[39;00m \u001b[39mimport\u001b[39;00m _minimum_control_deps\n\u001b[1;32m     17\u001b[0m \u001b[39mfrom\u001b[39;00m \u001b[39mkeras\u001b[39;00m\u001b[39m.\u001b[39;00m\u001b[39mengine\u001b[39;00m\u001b[39m.\u001b[39;00m\u001b[39mtraining\u001b[39;00m \u001b[39mimport\u001b[39;00m reduce_per_replica\n\u001b[1;32m     18\u001b[0m \u001b[39mfrom\u001b[39;00m \u001b[39mkeras\u001b[39;00m\u001b[39m.\u001b[39;00m\u001b[39mutils\u001b[39;00m \u001b[39mimport\u001b[39;00m tf_utils\n",
      "\u001b[0;31mModuleNotFoundError\u001b[0m: No module named 'keras.engine'"
     ]
    }
   ],
   "source": [
    "import time\n",
    "import tensorflow as tf\n",
    "import keras_cv\n",
    "from matplotlib import pyplot as plt"
   ]
  },
  {
   "cell_type": "code",
   "execution_count": null,
   "metadata": {},
   "outputs": [
    {
     "name": "stdout",
     "output_type": "stream",
     "text": [
      "Tensorflow version 2.13.0\n"
     ]
    }
   ],
   "source": [
    "print(f\"Tensorflow version {tf.__version__}\")"
   ]
  },
  {
   "cell_type": "code",
   "execution_count": null,
   "metadata": {},
   "outputs": [],
   "source": [
    "def plot_images(images):\n",
    "    plt.figure(figsize=(20, 20))\n",
    "    for i in range(len(images)):\n",
    "        ax = plt.subplot(1, len(images), i + 1)\n",
    "        plt.imshow(images[i])\n",
    "        plt.axis(\"off\")"
   ]
  },
  {
   "cell_type": "code",
   "execution_count": null,
   "metadata": {},
   "outputs": [
    {
     "ename": "NameError",
     "evalue": "name 'keras_cv' is not defined",
     "output_type": "error",
     "traceback": [
      "\u001b[0;31m---------------------------------------------------------------------------\u001b[0m",
      "\u001b[0;31mNameError\u001b[0m                                 Traceback (most recent call last)",
      "Cell \u001b[0;32mIn[13], line 1\u001b[0m\n\u001b[0;32m----> 1\u001b[0m model \u001b[39m=\u001b[39m keras_cv\u001b[39m.\u001b[39mmodels\u001b[39m.\u001b[39mStableDiffusion(img_width\u001b[39m=\u001b[39m\u001b[39m512\u001b[39m, img_height\u001b[39m=\u001b[39m\u001b[39m512\u001b[39m)\n",
      "\u001b[0;31mNameError\u001b[0m: name 'keras_cv' is not defined"
     ]
    }
   ],
   "source": [
    "model = keras_cv.models.StableDiffusion(img_width=512, img_height=512)"
   ]
  },
  {
   "cell_type": "code",
   "execution_count": null,
   "metadata": {},
   "outputs": [],
   "source": [
    "images = model.text_to_image(\"modern art\", batch_size=4)"
   ]
  },
  {
   "cell_type": "code",
   "execution_count": null,
   "metadata": {},
   "outputs": [],
   "source": [
    "plot_images(images)"
   ]
  }
 ],
 "metadata": {
  "kernelspec": {
   "display_name": "venv",
   "language": "python",
   "name": "python3"
  },
  "language_info": {
   "codemirror_mode": {
    "name": "ipython",
    "version": 3
   },
   "file_extension": ".py",
   "mimetype": "text/x-python",
   "name": "python",
   "nbconvert_exporter": "python",
   "pygments_lexer": "ipython3",
   "version": "3.11.4"
  },
  "orig_nbformat": 4
 },
 "nbformat": 4,
 "nbformat_minor": 2
}
